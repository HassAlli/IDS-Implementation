{
 "cells": [
  {
   "cell_type": "code",
   "execution_count": 1,
   "metadata": {},
   "outputs": [
    {
     "name": "stdout",
     "output_type": "stream",
     "text": [
      "Visiting node: A, Depth: 0\n",
      "Depth 0: Visiting nodes...\n",
      "Visiting node: A, Depth: 1\n",
      "Visiting node: B, Depth: 0\n",
      "Visiting node: C, Depth: 0\n",
      "Depth 1: Visiting nodes...\n",
      "Visiting node: A, Depth: 2\n",
      "Visiting node: B, Depth: 1\n",
      "Visiting node: D, Depth: 0\n",
      "Visiting node: E, Depth: 0\n",
      "Depth 2: Visiting nodes...\n",
      "Node found: E\n"
     ]
    }
   ],
   "source": [
    "class Node:\n",
    "    def __init__(self, data):\n",
    "        self.data = data\n",
    "        self.children = []\n",
    "\n",
    "def iterative_deepening_search(root, target):\n",
    "    depth = 0\n",
    "    while True:\n",
    "        result = depth_limited_search(root, target, depth)\n",
    "        print(f\"Depth {depth}: Visiting nodes...\")\n",
    "        if result is not None:\n",
    "            return result\n",
    "        depth += 1\n",
    "\n",
    "def depth_limited_search(node, target, depth):\n",
    "    print(f\"Visiting node: {node.data}, Depth: {depth}\")\n",
    "    if depth == 0 and node.data == target:\n",
    "        return node.data\n",
    "    if depth > 0:\n",
    "        for child in node.children:\n",
    "            result = depth_limited_search(child, target, depth - 1)\n",
    "\n",
    "            if result is not None:\n",
    "                return result\n",
    "            \n",
    "    return None\n",
    "\n",
    "# Example usage:\n",
    "# Create a simple tree\n",
    "#      A\n",
    "#     / \\\n",
    "#    B   C\n",
    "#   / \\   \\\n",
    "#  D   E   F\n",
    "\n",
    "root = Node('A')\n",
    "root.children = [Node('B'), Node('C')]\n",
    "root.children[0].children = [Node('D'), Node('E')]\n",
    "root.children[1].children = [Node('F')]\n",
    "target_node = iterative_deepening_search(root, 'E')\n",
    "\n",
    "if target_node:\n",
    "    print(\"Node found:\", target_node)\n",
    "else:\n",
    "    print(\"Node not found\")\n"
   ]
  }
 ],
 "metadata": {
  "kernelspec": {
   "display_name": "Python 3",
   "language": "python",
   "name": "python3"
  },
  "language_info": {
   "codemirror_mode": {
    "name": "ipython",
    "version": 3
   },
   "file_extension": ".py",
   "mimetype": "text/x-python",
   "name": "python",
   "nbconvert_exporter": "python",
   "pygments_lexer": "ipython3",
   "version": "3.12.0"
  }
 },
 "nbformat": 4,
 "nbformat_minor": 2
}
